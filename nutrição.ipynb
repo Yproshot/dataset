{
 "cells": [
  {
   "cell_type": "code",
   "execution_count": null,
   "metadata": {},
   "outputs": [],
   "source": [
    "pip install pandas\n",
    "\n"
   ]
  },
  {
   "cell_type": "markdown",
   "metadata": {},
   "source": [
    "checar bibliotecas"
   ]
  },
  {
   "cell_type": "code",
   "execution_count": 95,
   "metadata": {},
   "outputs": [
    {
     "ename": "SyntaxError",
     "evalue": "invalid syntax (4265594094.py, line 1)",
     "output_type": "error",
     "traceback": [
      "\u001b[1;36m  Cell \u001b[1;32mIn[95], line 1\u001b[1;36m\u001b[0m\n\u001b[1;33m    pip install numpy\u001b[0m\n\u001b[1;37m        ^\u001b[0m\n\u001b[1;31mSyntaxError\u001b[0m\u001b[1;31m:\u001b[0m invalid syntax\n"
     ]
    }
   ],
   "source": [
    "pip install numpy\n",
    "\n"
   ]
  },
  {
   "cell_type": "code",
   "execution_count": 96,
   "metadata": {},
   "outputs": [
    {
     "ename": "SyntaxError",
     "evalue": "invalid syntax (2276275943.py, line 1)",
     "output_type": "error",
     "traceback": [
      "\u001b[1;36m  Cell \u001b[1;32mIn[96], line 1\u001b[1;36m\u001b[0m\n\u001b[1;33m    pip install sklearn\u001b[0m\n\u001b[1;37m        ^\u001b[0m\n\u001b[1;31mSyntaxError\u001b[0m\u001b[1;31m:\u001b[0m invalid syntax\n"
     ]
    }
   ],
   "source": [
    "pip install sklearn\n",
    "\n"
   ]
  },
  {
   "cell_type": "code",
   "execution_count": 97,
   "metadata": {},
   "outputs": [
    {
     "name": "stdout",
     "output_type": "stream",
     "text": [
      "Collecting scipyNote: you may need to restart the kernel to use updated packages.\n",
      "\n",
      "  Downloading scipy-1.11.4-cp311-cp311-win_amd64.whl (44.1 MB)\n",
      "     --------------------------------------- 44.1/44.1 MB 11.5 MB/s eta 0:00:00\n",
      "Requirement already satisfied: numpy<1.28.0,>=1.21.6 in c:\\python311\\lib\\site-packages (from scipy) (1.26.2)\n",
      "Installing collected packages: scipy\n",
      "Successfully installed scipy-1.11.4\n"
     ]
    },
    {
     "name": "stderr",
     "output_type": "stream",
     "text": [
      "\n",
      "[notice] A new release of pip available: 22.3.1 -> 23.3.1\n",
      "[notice] To update, run: python.exe -m pip install --upgrade pip\n"
     ]
    }
   ],
   "source": [
    "pip install scipy"
   ]
  },
  {
   "cell_type": "code",
   "execution_count": 98,
   "metadata": {},
   "outputs": [
    {
     "ename": "ModuleNotFoundError",
     "evalue": "No module named 'matplotlib'",
     "output_type": "error",
     "traceback": [
      "\u001b[1;31m---------------------------------------------------------------------------\u001b[0m",
      "\u001b[1;31mModuleNotFoundError\u001b[0m                       Traceback (most recent call last)",
      "\u001b[1;32mc:\\Users\\maicon\\Desktop\\dataset\\nutrição.ipynb Célula 5\u001b[0m line \u001b[0;36m3\n\u001b[0;32m      <a href='vscode-notebook-cell:/c%3A/Users/maicon/Desktop/dataset/nutri%C3%A7%C3%A3o.ipynb#W0sZmlsZQ%3D%3D?line=0'>1</a>\u001b[0m \u001b[39mimport\u001b[39;00m \u001b[39mpandas\u001b[39;00m \u001b[39mas\u001b[39;00m \u001b[39mpd\u001b[39;00m\n\u001b[0;32m      <a href='vscode-notebook-cell:/c%3A/Users/maicon/Desktop/dataset/nutri%C3%A7%C3%A3o.ipynb#W0sZmlsZQ%3D%3D?line=1'>2</a>\u001b[0m \u001b[39mimport\u001b[39;00m \u001b[39mnumpy\u001b[39;00m \u001b[39mas\u001b[39;00m \u001b[39mnp\u001b[39;00m\n\u001b[1;32m----> <a href='vscode-notebook-cell:/c%3A/Users/maicon/Desktop/dataset/nutri%C3%A7%C3%A3o.ipynb#W0sZmlsZQ%3D%3D?line=2'>3</a>\u001b[0m \u001b[39mimport\u001b[39;00m \u001b[39mmatplotlib\u001b[39;00m\u001b[39m.\u001b[39;00m\u001b[39mpyplot\u001b[39;00m \u001b[39mas\u001b[39;00m \u001b[39mplt\u001b[39;00m\n\u001b[0;32m      <a href='vscode-notebook-cell:/c%3A/Users/maicon/Desktop/dataset/nutri%C3%A7%C3%A3o.ipynb#W0sZmlsZQ%3D%3D?line=4'>5</a>\u001b[0m \u001b[39mfrom\u001b[39;00m \u001b[39msklearn\u001b[39;00m\u001b[39m.\u001b[39;00m\u001b[39mcluster\u001b[39;00m \u001b[39mimport\u001b[39;00m KMeans \n\u001b[0;32m      <a href='vscode-notebook-cell:/c%3A/Users/maicon/Desktop/dataset/nutri%C3%A7%C3%A3o.ipynb#W0sZmlsZQ%3D%3D?line=5'>6</a>\u001b[0m \u001b[39mfrom\u001b[39;00m \u001b[39mscipy\u001b[39;00m\u001b[39m.\u001b[39;00m\u001b[39mstats\u001b[39;00m \u001b[39mimport\u001b[39;00m zscore\n",
      "\u001b[1;31mModuleNotFoundError\u001b[0m: No module named 'matplotlib'"
     ]
    }
   ],
   "source": [
    "import pandas as pd\n",
    "import numpy as np\n",
    "import matplotlib.pyplot as plt\n",
    "\n",
    "from sklearn.cluster import KMeans \n",
    "from scipy.stats import zscore\n",
    "\n"
   ]
  },
  {
   "cell_type": "code",
   "execution_count": null,
   "metadata": {},
   "outputs": [],
   "source": [
    "# Carregue o arquivo CSV\n",
    "df = pd.read_csv('./menu.csv')\n"
   ]
  },
  {
   "cell_type": "code",
   "execution_count": null,
   "metadata": {},
   "outputs": [],
   "source": [
    "# Exiba as primeiras linhas do DataFrame\n",
    "df.head()\n"
   ]
  },
  {
   "cell_type": "code",
   "execution_count": null,
   "metadata": {},
   "outputs": [],
   "source": [
    "mc = df.copy()"
   ]
  },
  {
   "cell_type": "code",
   "execution_count": null,
   "metadata": {},
   "outputs": [],
   "source": [
    "modelo_dummies = pd.get_dummies(mc['Category'], drop_first=True) \n",
    "mc = pd.concat([mc, modelo_dummies], axis=1)\n",
    "mc.drop('Category', axis=1, inplace=True)\n",
    "mc"
   ]
  },
  {
   "cell_type": "code",
   "execution_count": null,
   "metadata": {},
   "outputs": [],
   "source": [
    "mc.columns"
   ]
  },
  {
   "cell_type": "code",
   "execution_count": null,
   "metadata": {},
   "outputs": [],
   "source": [
    "mc_novo = mc.rename(columns= {'Item' : 'Itens',\n",
    "                           'Serving Size' : 'porcao' ,\n",
    "                            'Calories' : 'Calorias',\n",
    "                             'Calories from Fat' : 'Calorias de gordura',\n",
    "                              'Total Fat' : 'Gordura total',\n",
    "                              'Total Fat (% Daily Value)' : 'Gordura total (% valor diario)',\n",
    "                               'Saturated Fat' : 'Gordura saturada',\n",
    "                               'Saturated Fat (% Daily Value)' : 'Gordura saturada (% valor diario)',\n",
    "                                'Trans Fat' : 'Gordura trans',\n",
    "                                 'Cholesterol': 'Colesterol',\n",
    "                                 'Cholesterol (% Daily Value)': 'Colesterol (% valor diario)',\n",
    "      'Sodium': 'Sodio',\n",
    "         'Sodium (% Daily Value)' : 'Sodio (% valor diario)',\n",
    "\n",
    "       'Carbohydrates' : 'Carboidratos', \n",
    "       'Carbohydrates (% Daily Value)' : 'Carboidratos (% valor diario)', \n",
    "       'Dietary Fiber' : 'fibra dietetica',\n",
    "       'Dietary Fiber (% Daily Value)' : 'fibra dietetica (% valor diario)', \n",
    "       'Sugars' : 'Acucar', \n",
    "       'Protein' : 'Proteina',\n",
    "       'Vitamin A (% Daily Value)': 'Vitamina A (% valor diario)',\n",
    "        'Vitamin C (% Daily Value)' : 'Vitamina C (% valor diario)',\n",
    "       'Calcium (% Daily Value)' : 'Calcio (% valor diario)',\n",
    "        'Iron (% Daily Value)' : 'Ferro (% valor diario)', \n",
    "        'Beverages' : 'Bebidas',\n",
    "       'Breakfast' : 'Cafe da manha', \n",
    "       'Chicken & Fish' : 'frango e peixe', \n",
    "       'Coffee & Tea' : 'Cafe e Cha', \n",
    "       'Desserts' : 'Sobremesas', \n",
    "       'Salads' : 'Saladas',\n",
    "       'Smoothies & Shakes' : 'milkshake', \n",
    "       'Snacks & Sides' : 'salgados',\n",
    "                        })"
   ]
  },
  {
   "cell_type": "code",
   "execution_count": null,
   "metadata": {},
   "outputs": [],
   "source": [
    "mc_novo"
   ]
  },
  {
   "cell_type": "code",
   "execution_count": null,
   "metadata": {},
   "outputs": [],
   "source": [
    "pd.set_option('display.max_rows', None)\n",
    "pd.set_option('display.max_columns', None)"
   ]
  },
  {
   "cell_type": "code",
   "execution_count": null,
   "metadata": {},
   "outputs": [],
   "source": [
    "mc_novo"
   ]
  },
  {
   "cell_type": "code",
   "execution_count": null,
   "metadata": {},
   "outputs": [],
   "source": [
    "mc_novo= mc_novo.set_index('Itens')"
   ]
  },
  {
   "cell_type": "code",
   "execution_count": null,
   "metadata": {},
   "outputs": [],
   "source": [
    "mc_novo.columns"
   ]
  },
  {
   "cell_type": "code",
   "execution_count": null,
   "metadata": {},
   "outputs": [],
   "source": [
    "print(mc_novo.isna().sum())"
   ]
  },
  {
   "cell_type": "code",
   "execution_count": null,
   "metadata": {},
   "outputs": [],
   "source": [
    "Cafe = mc_novo[mc_novo['Cafe da manha'] == True][['Carboidratos', 'Calorias', 'porcao']]"
   ]
  },
  {
   "cell_type": "code",
   "execution_count": null,
   "metadata": {},
   "outputs": [],
   "source": [
    "Cafe"
   ]
  },
  {
   "cell_type": "code",
   "execution_count": null,
   "metadata": {},
   "outputs": [],
   "source": [
    "Lanche = mc_novo[mc_novo['frango e peixe'] == True][['Carboidratos', 'Gordura total', 'Proteina', 'Calorias', 'porcao']]"
   ]
  },
  {
   "cell_type": "code",
   "execution_count": null,
   "metadata": {},
   "outputs": [],
   "source": [
    "Lanche"
   ]
  },
  {
   "cell_type": "code",
   "execution_count": null,
   "metadata": {},
   "outputs": [],
   "source": [
    "Jantar = mc_novo[mc_novo['frango e peixe'] == True][[ 'Proteina', 'Calorias', 'fibra dietetica', 'porcao']]"
   ]
  },
  {
   "cell_type": "code",
   "execution_count": null,
   "metadata": {},
   "outputs": [],
   "source": [
    "Jantar"
   ]
  },
  {
   "cell_type": "code",
   "execution_count": null,
   "metadata": {},
   "outputs": [],
   "source": []
  },
  {
   "cell_type": "code",
   "execution_count": null,
   "metadata": {},
   "outputs": [],
   "source": [
    "import numpy as np\n",
    "import matplotlib.pyplot as plt\n",
    "\n",
    "from sklearn.cluster import KMeans \n",
    "from scipy.stats import zscore"
   ]
  }
 ],
 "metadata": {
  "kernelspec": {
   "display_name": "Python 3",
   "language": "python",
   "name": "python3"
  },
  "language_info": {
   "codemirror_mode": {
    "name": "ipython",
    "version": 3
   },
   "file_extension": ".py",
   "mimetype": "text/x-python",
   "name": "python",
   "nbconvert_exporter": "python",
   "pygments_lexer": "ipython3",
   "version": "3.11.2"
  }
 },
 "nbformat": 4,
 "nbformat_minor": 2
}
