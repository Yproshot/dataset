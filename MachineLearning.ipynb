{
  "nbformat": 4,
  "nbformat_minor": 0,
  "metadata": {
    "colab": {
      "provenance": []
    },
    "kernelspec": {
      "name": "python3",
      "display_name": "Python 3"
    },
    "language_info": {
      "name": "python"
    }
  },
  "cells": [
    {
      "cell_type": "code",
      "execution_count": null,
      "metadata": {
        "id": "PzF2V6vg8omV"
      },
      "outputs": [],
      "source": [
        "import pandas as pd\n",
        "import numpy as np\n",
        "import matplotlib.pyplot as plt\n",
        "\n",
        "from sklearn.cluster import KMeans\n",
        "from scipy.stats import zscore"
      ]
    },
    {
      "cell_type": "code",
      "source": [
        "from google.colab import files\n",
        "uploaded = files.upload()"
      ],
      "metadata": {
        "colab": {
          "base_uri": "https://localhost:8080/",
          "height": 73
        },
        "id": "fVjhDayA8309",
        "outputId": "50515bfa-168e-49d7-fcad-baf42c60f354"
      },
      "execution_count": null,
      "outputs": [
        {
          "output_type": "display_data",
          "data": {
            "text/plain": [
              "<IPython.core.display.HTML object>"
            ],
            "text/html": [
              "\n",
              "     <input type=\"file\" id=\"files-d9dade84-2c1a-4f84-91f1-f403cac45bec\" name=\"files[]\" multiple disabled\n",
              "        style=\"border:none\" />\n",
              "     <output id=\"result-d9dade84-2c1a-4f84-91f1-f403cac45bec\">\n",
              "      Upload widget is only available when the cell has been executed in the\n",
              "      current browser session. Please rerun this cell to enable.\n",
              "      </output>\n",
              "      <script>// Copyright 2017 Google LLC\n",
              "//\n",
              "// Licensed under the Apache License, Version 2.0 (the \"License\");\n",
              "// you may not use this file except in compliance with the License.\n",
              "// You may obtain a copy of the License at\n",
              "//\n",
              "//      http://www.apache.org/licenses/LICENSE-2.0\n",
              "//\n",
              "// Unless required by applicable law or agreed to in writing, software\n",
              "// distributed under the License is distributed on an \"AS IS\" BASIS,\n",
              "// WITHOUT WARRANTIES OR CONDITIONS OF ANY KIND, either express or implied.\n",
              "// See the License for the specific language governing permissions and\n",
              "// limitations under the License.\n",
              "\n",
              "/**\n",
              " * @fileoverview Helpers for google.colab Python module.\n",
              " */\n",
              "(function(scope) {\n",
              "function span(text, styleAttributes = {}) {\n",
              "  const element = document.createElement('span');\n",
              "  element.textContent = text;\n",
              "  for (const key of Object.keys(styleAttributes)) {\n",
              "    element.style[key] = styleAttributes[key];\n",
              "  }\n",
              "  return element;\n",
              "}\n",
              "\n",
              "// Max number of bytes which will be uploaded at a time.\n",
              "const MAX_PAYLOAD_SIZE = 100 * 1024;\n",
              "\n",
              "function _uploadFiles(inputId, outputId) {\n",
              "  const steps = uploadFilesStep(inputId, outputId);\n",
              "  const outputElement = document.getElementById(outputId);\n",
              "  // Cache steps on the outputElement to make it available for the next call\n",
              "  // to uploadFilesContinue from Python.\n",
              "  outputElement.steps = steps;\n",
              "\n",
              "  return _uploadFilesContinue(outputId);\n",
              "}\n",
              "\n",
              "// This is roughly an async generator (not supported in the browser yet),\n",
              "// where there are multiple asynchronous steps and the Python side is going\n",
              "// to poll for completion of each step.\n",
              "// This uses a Promise to block the python side on completion of each step,\n",
              "// then passes the result of the previous step as the input to the next step.\n",
              "function _uploadFilesContinue(outputId) {\n",
              "  const outputElement = document.getElementById(outputId);\n",
              "  const steps = outputElement.steps;\n",
              "\n",
              "  const next = steps.next(outputElement.lastPromiseValue);\n",
              "  return Promise.resolve(next.value.promise).then((value) => {\n",
              "    // Cache the last promise value to make it available to the next\n",
              "    // step of the generator.\n",
              "    outputElement.lastPromiseValue = value;\n",
              "    return next.value.response;\n",
              "  });\n",
              "}\n",
              "\n",
              "/**\n",
              " * Generator function which is called between each async step of the upload\n",
              " * process.\n",
              " * @param {string} inputId Element ID of the input file picker element.\n",
              " * @param {string} outputId Element ID of the output display.\n",
              " * @return {!Iterable<!Object>} Iterable of next steps.\n",
              " */\n",
              "function* uploadFilesStep(inputId, outputId) {\n",
              "  const inputElement = document.getElementById(inputId);\n",
              "  inputElement.disabled = false;\n",
              "\n",
              "  const outputElement = document.getElementById(outputId);\n",
              "  outputElement.innerHTML = '';\n",
              "\n",
              "  const pickedPromise = new Promise((resolve) => {\n",
              "    inputElement.addEventListener('change', (e) => {\n",
              "      resolve(e.target.files);\n",
              "    });\n",
              "  });\n",
              "\n",
              "  const cancel = document.createElement('button');\n",
              "  inputElement.parentElement.appendChild(cancel);\n",
              "  cancel.textContent = 'Cancel upload';\n",
              "  const cancelPromise = new Promise((resolve) => {\n",
              "    cancel.onclick = () => {\n",
              "      resolve(null);\n",
              "    };\n",
              "  });\n",
              "\n",
              "  // Wait for the user to pick the files.\n",
              "  const files = yield {\n",
              "    promise: Promise.race([pickedPromise, cancelPromise]),\n",
              "    response: {\n",
              "      action: 'starting',\n",
              "    }\n",
              "  };\n",
              "\n",
              "  cancel.remove();\n",
              "\n",
              "  // Disable the input element since further picks are not allowed.\n",
              "  inputElement.disabled = true;\n",
              "\n",
              "  if (!files) {\n",
              "    return {\n",
              "      response: {\n",
              "        action: 'complete',\n",
              "      }\n",
              "    };\n",
              "  }\n",
              "\n",
              "  for (const file of files) {\n",
              "    const li = document.createElement('li');\n",
              "    li.append(span(file.name, {fontWeight: 'bold'}));\n",
              "    li.append(span(\n",
              "        `(${file.type || 'n/a'}) - ${file.size} bytes, ` +\n",
              "        `last modified: ${\n",
              "            file.lastModifiedDate ? file.lastModifiedDate.toLocaleDateString() :\n",
              "                                    'n/a'} - `));\n",
              "    const percent = span('0% done');\n",
              "    li.appendChild(percent);\n",
              "\n",
              "    outputElement.appendChild(li);\n",
              "\n",
              "    const fileDataPromise = new Promise((resolve) => {\n",
              "      const reader = new FileReader();\n",
              "      reader.onload = (e) => {\n",
              "        resolve(e.target.result);\n",
              "      };\n",
              "      reader.readAsArrayBuffer(file);\n",
              "    });\n",
              "    // Wait for the data to be ready.\n",
              "    let fileData = yield {\n",
              "      promise: fileDataPromise,\n",
              "      response: {\n",
              "        action: 'continue',\n",
              "      }\n",
              "    };\n",
              "\n",
              "    // Use a chunked sending to avoid message size limits. See b/62115660.\n",
              "    let position = 0;\n",
              "    do {\n",
              "      const length = Math.min(fileData.byteLength - position, MAX_PAYLOAD_SIZE);\n",
              "      const chunk = new Uint8Array(fileData, position, length);\n",
              "      position += length;\n",
              "\n",
              "      const base64 = btoa(String.fromCharCode.apply(null, chunk));\n",
              "      yield {\n",
              "        response: {\n",
              "          action: 'append',\n",
              "          file: file.name,\n",
              "          data: base64,\n",
              "        },\n",
              "      };\n",
              "\n",
              "      let percentDone = fileData.byteLength === 0 ?\n",
              "          100 :\n",
              "          Math.round((position / fileData.byteLength) * 100);\n",
              "      percent.textContent = `${percentDone}% done`;\n",
              "\n",
              "    } while (position < fileData.byteLength);\n",
              "  }\n",
              "\n",
              "  // All done.\n",
              "  yield {\n",
              "    response: {\n",
              "      action: 'complete',\n",
              "    }\n",
              "  };\n",
              "}\n",
              "\n",
              "scope.google = scope.google || {};\n",
              "scope.google.colab = scope.google.colab || {};\n",
              "scope.google.colab._files = {\n",
              "  _uploadFiles,\n",
              "  _uploadFilesContinue,\n",
              "};\n",
              "})(self);\n",
              "</script> "
            ]
          },
          "metadata": {}
        },
        {
          "output_type": "stream",
          "name": "stdout",
          "text": [
            "Saving menu (1).csv to menu (1).csv\n"
          ]
        }
      ]
    },
    {
      "cell_type": "code",
      "source": [
        "mc_donalds = pd.read_csv(\"menu (1).csv\",\n",
        "                       delimiter=\",\",\n",
        "                       encoding =\"utf-8\",\n",
        "                       header = 0)"
      ],
      "metadata": {
        "id": "iBN4q-8e9f5r"
      },
      "execution_count": null,
      "outputs": []
    },
    {
      "cell_type": "code",
      "source": [
        "mc_donalds"
      ],
      "metadata": {
        "id": "KiN1vnKh9lTj"
      },
      "execution_count": null,
      "outputs": []
    },
    {
      "cell_type": "code",
      "source": [
        "mc = mc_donalds.copy()"
      ],
      "metadata": {
        "id": "RQvwqUC29o5U"
      },
      "execution_count": null,
      "outputs": []
    },
    {
      "cell_type": "code",
      "source": [
        "modelo_dummies = pd.get_dummies(mc['Category'], drop_first=True)\n",
        "mc = pd.concat([mc, modelo_dummies], axis=1)"
      ],
      "metadata": {
        "id": "A8cVC0TT95VX"
      },
      "execution_count": null,
      "outputs": []
    },
    {
      "cell_type": "code",
      "source": [
        "mc"
      ],
      "metadata": {
        "id": "vDVReR9c9-5H"
      },
      "execution_count": null,
      "outputs": []
    },
    {
      "cell_type": "code",
      "source": [
        "mc.drop('Category', axis=1, inplace=True)"
      ],
      "metadata": {
        "id": "gSGNH8_5-D5i"
      },
      "execution_count": null,
      "outputs": []
    },
    {
      "cell_type": "code",
      "source": [
        "mc"
      ],
      "metadata": {
        "id": "nkI_pxHL-KKp"
      },
      "execution_count": null,
      "outputs": []
    },
    {
      "cell_type": "code",
      "source": [
        "mc.columns"
      ],
      "metadata": {
        "id": "RYd-QlP5-OiZ"
      },
      "execution_count": null,
      "outputs": []
    },
    {
      "cell_type": "code",
      "source": [
        "mc_novo = mc.rename(columns= {'Item' : 'Itens',\n",
        "                           'Serving Size' : 'porcao' ,\n",
        "                            'Calories' : 'Calorias',\n",
        "                             'Calories from Fat' : 'Calorias de gordura',\n",
        "                              'Total Fat' : 'Gordura total',\n",
        "                              'Total Fat (% Daily Value)' : 'Gordura total (% valor diario)',\n",
        "                               'Saturated Fat' : 'Gordura saturada',\n",
        "                               'Saturated Fat (% Daily Value)' : 'Gordura saturada (% valor diario)',\n",
        "                                'Trans Fat' : 'Gordura trans',\n",
        "                                 'Cholesterol': 'Colesterol',\n",
        "                                 'Cholesterol (% Daily Value)': 'Colesterol (% valor diario)',\n",
        "      'Sodium': 'Sodio',\n",
        "         'Sodium (% Daily Value)' : 'Sodio (% valor diario)',\n",
        "\n",
        "       'Carbohydrates' : 'Carboidratos',\n",
        "       'Carbohydrates (% Daily Value)' : 'Carboidratos (% valor diario)',\n",
        "       'Dietary Fiber' : 'fibra dietetica',\n",
        "       'Dietary Fiber (% Daily Value)' : 'fibra dietetica (% valor diario)',\n",
        "       'Sugars' : 'Acucar',\n",
        "       'Protein' : 'Proteina',\n",
        "       'Vitamin A (% Daily Value)': 'Vitamina A (% valor diario)',\n",
        "        'Vitamin C (% Daily Value)' : 'Vitamina C (% valor diario)',\n",
        "       'Calcium (% Daily Value)' : 'Calcio (% valor diario)',\n",
        "        'Iron (% Daily Value)' : 'Ferro (% valor diario)',\n",
        "        'Beverages' : 'Bebidas',\n",
        "       'Breakfast' : 'Cafe da manha',\n",
        "       'Chicken & Fish' : 'frango e peixe',\n",
        "       'Coffee & Tea' : 'Cafe e Cha',\n",
        "       'Desserts' : 'Sobremesas',\n",
        "       'Salads' : 'Saladas',\n",
        "       'Smoothies & Shakes' : 'milkshake',\n",
        "       'Snacks & Sides' : 'salgados',\n",
        "                        })"
      ],
      "metadata": {
        "id": "5zDt4yDt-blD"
      },
      "execution_count": null,
      "outputs": []
    },
    {
      "cell_type": "code",
      "source": [
        "mc_novo"
      ],
      "metadata": {
        "id": "vGFMON1I-iJN"
      },
      "execution_count": null,
      "outputs": []
    },
    {
      "cell_type": "code",
      "source": [
        "pd.set_option('display.max_rows', None)\n",
        "pd.set_option('display.max_columns', None)"
      ],
      "metadata": {
        "id": "ERUBLXlK-nRd"
      },
      "execution_count": null,
      "outputs": []
    },
    {
      "cell_type": "code",
      "source": [
        "mc_novo.head()"
      ],
      "metadata": {
        "id": "6uMbWX1v-tLu"
      },
      "execution_count": null,
      "outputs": []
    },
    {
      "cell_type": "code",
      "source": [
        "mc_novo= mc_novo.set_index('Itens')"
      ],
      "metadata": {
        "id": "wj6h65wF-99o"
      },
      "execution_count": null,
      "outputs": []
    },
    {
      "cell_type": "code",
      "source": [
        "mc_novo.head()"
      ],
      "metadata": {
        "id": "UEOT__Am_FIx"
      },
      "execution_count": null,
      "outputs": []
    },
    {
      "cell_type": "code",
      "source": [
        "print(mc_novo.isna().sum())"
      ],
      "metadata": {
        "id": "wIVb1yzL_TwM"
      },
      "execution_count": null,
      "outputs": []
    },
    {
      "cell_type": "markdown",
      "source": [
        "# ***Clusters***\n",
        "\n",
        "\n",
        "\n",
        "\n"
      ],
      "metadata": {
        "id": "__YamPyYijVA"
      }
    },
    {
      "cell_type": "code",
      "source": [
        "Cafe = mc_novo[mc_novo['Cafe da manha'] == True][['Carboidratos', 'Calorias', 'porcao']]"
      ],
      "metadata": {
        "id": "4MoBMQi9_VVU"
      },
      "execution_count": null,
      "outputs": []
    },
    {
      "cell_type": "code",
      "source": [
        "Cafe"
      ],
      "metadata": {
        "id": "jI7KxF0X_YR9"
      },
      "execution_count": null,
      "outputs": []
    },
    {
      "cell_type": "code",
      "source": [
        "def converter_para_gramas(i):\n",
        "    if 'oz' in i:\n",
        "        ounces = float(i.split('oz')[0].strip())\n",
        "\n",
        "        grams = ounces * 28.35\n",
        "        return f'{grams:.2f} '\n",
        "    else:\n",
        "        return i\n",
        "\n",
        "Cafe['porcao'] = Cafe['porcao'].apply(converter_para_gramas)\n",
        "\n",
        "\n",
        "Cafe"
      ],
      "metadata": {
        "id": "AHyhiBc0BAtU"
      },
      "execution_count": null,
      "outputs": []
    },
    {
      "cell_type": "code",
      "source": [
        "x = Cafe\n",
        "\n",
        "variabilidade_cluster = []\n",
        "\n",
        "valores_k = range(1, 11)\n",
        "\n",
        "for k in valores_k:\n",
        "    kmeans = KMeans(n_clusters=k, random_state=0)\n",
        "    kmeans.fit(x)\n",
        "    variabilidade_cluster.append(kmeans.inertia_)"
      ],
      "metadata": {
        "id": "xWSXh8miEt0_"
      },
      "execution_count": null,
      "outputs": []
    },
    {
      "cell_type": "code",
      "source": [
        "plt.figure(figsize=(10, 6))\n",
        "\n",
        "plt.plot(valores_k, variabilidade_cluster, marker='o')\n",
        "\n",
        "plt.xlabel('Número de clusters (k)')\n",
        "plt.ylabel('Inércia / variabilidade')\n",
        "plt.title('Método do cotovelo para determinar o número ideal de clusters')\n",
        "plt.xticks(valores_k) # define os labels 1, 2 ,3 .. no eixo x.\n",
        "#plt.yticks(clusters_list) # define os labels para o eixo y. rodar para os alunos.\n",
        "plt.grid(True)\n",
        "plt.show()"
      ],
      "metadata": {
        "id": "3vBYh2Y-Ef_W"
      },
      "execution_count": null,
      "outputs": []
    },
    {
      "cell_type": "code",
      "source": [
        "kmeans = KMeans(n_clusters=4, random_state=0)\n",
        "kmeans.fit(Cafe)\n",
        "\n",
        "labels = kmeans.labels_\n",
        "Cafe['Cluster'] = labels\n",
        "Cafe"
      ],
      "metadata": {
        "id": "Y-gZH6UVFFdi"
      },
      "execution_count": null,
      "outputs": []
    },
    {
      "cell_type": "code",
      "source": [
        "Cafe['Cluster'] = labels\n",
        "\n",
        "plt.figure(figsize=(10, 8))\n",
        "\n",
        "for i in range(0, 4):\n",
        "    subset = Cafe[Cafe['Cluster'] == i]\n",
        "    plt.scatter(subset['Carboidratos'], subset['Calorias'], label=f'Cluster {i}')\n",
        "\n",
        "plt.xlabel('Carboidratos')\n",
        "plt.ylabel('Calorias')\n",
        "plt.title('Lanches e seus Clusters')\n",
        "plt.legend()\n",
        "plt.show()"
      ],
      "metadata": {
        "id": "m-yjJnSwFps-"
      },
      "execution_count": null,
      "outputs": []
    },
    {
      "cell_type": "code",
      "source": [
        "Cafe.groupby(\"Cluster\").describe()"
      ],
      "metadata": {
        "id": "wHqwnjI9GQ0t"
      },
      "execution_count": null,
      "outputs": []
    },
    {
      "cell_type": "code",
      "source": [
        "escolhidos = Cafe[Cafe['Cluster'] == 3]\n"
      ],
      "metadata": {
        "id": "TPGFh8hmf4Gh"
      },
      "execution_count": null,
      "outputs": []
    },
    {
      "cell_type": "code",
      "source": [
        "escolhidos"
      ],
      "metadata": {
        "id": "EmxXxqDbiD5-"
      },
      "execution_count": null,
      "outputs": []
    },
    {
      "cell_type": "code",
      "source": [
        "escolhido_cafe = escolhidos.loc[escolhidos['Carboidratos'].idxmax()]"
      ],
      "metadata": {
        "id": "prb3Nl5FiDSu"
      },
      "execution_count": null,
      "outputs": []
    },
    {
      "cell_type": "code",
      "source": [
        "print(escolhido_cafe)"
      ],
      "metadata": {
        "colab": {
          "base_uri": "https://localhost:8080/"
        },
        "id": "fVUCUMHegwP6",
        "outputId": "f803d717-31fb-4221-8c1e-683c7cb01afe"
      },
      "execution_count": null,
      "outputs": [
        {
          "output_type": "stream",
          "name": "stdout",
          "text": [
            "Carboidratos         66\n",
            "Calorias            460\n",
            "porcao          113.40 \n",
            "Cluster               3\n",
            "Name: Cinnamon Melts, dtype: object\n"
          ]
        }
      ]
    },
    {
      "cell_type": "code",
      "source": [
        "Lanche = mc_novo[mc_novo['frango e peixe'] == True][['Carboidratos', 'Gordura total', 'Proteina', 'Calorias', 'porcao']]"
      ],
      "metadata": {
        "id": "lJ7bBTxY_xbw"
      },
      "execution_count": null,
      "outputs": []
    },
    {
      "cell_type": "code",
      "source": [
        "Lanche"
      ],
      "metadata": {
        "id": "PIkLwVhM_4qR"
      },
      "execution_count": null,
      "outputs": []
    },
    {
      "cell_type": "code",
      "source": [
        "def converter_para_gramas(i):\n",
        "    if 'oz' in i:\n",
        "        ounces = float(i.split('oz')[0].strip())\n",
        "\n",
        "        grams = ounces * 28.35\n",
        "        return f'{grams:.2f} '\n",
        "    else:\n",
        "        return i\n",
        "\n",
        "Lanche['porcao'] = Lanche['porcao'].apply(converter_para_gramas)\n",
        "\n",
        "\n",
        "Lanche"
      ],
      "metadata": {
        "id": "fcnlFuzNCWig"
      },
      "execution_count": null,
      "outputs": []
    },
    {
      "cell_type": "code",
      "source": [
        "y = Lanche\n",
        "\n",
        "variabilidade_cluster = []\n",
        "\n",
        "valores_k = range(1, 11)\n",
        "\n",
        "for k in valores_k:\n",
        "    kmeans = KMeans(n_clusters=k, random_state=0)\n",
        "    kmeans.fit(y)\n",
        "    variabilidade_cluster.append(kmeans.inertia_)"
      ],
      "metadata": {
        "id": "mytX_PY8bUu1"
      },
      "execution_count": null,
      "outputs": []
    },
    {
      "cell_type": "code",
      "source": [
        "plt.figure(figsize=(10, 6))\n",
        "\n",
        "plt.plot(valores_k, variabilidade_cluster, marker='o')\n",
        "\n",
        "plt.xlabel('Número de clusters (k)')\n",
        "plt.ylabel('Inércia / variabilidade')\n",
        "plt.title('Método do cotovelo para determinar o número ideal de clusters')\n",
        "plt.xticks(valores_k)\n",
        "plt.grid(True)\n",
        "plt.show()"
      ],
      "metadata": {
        "id": "BUlvOPYmcDVV"
      },
      "execution_count": null,
      "outputs": []
    },
    {
      "cell_type": "code",
      "source": [
        "kmeans = KMeans(n_clusters=4, random_state=0)\n",
        "kmeans.fit(Lanche)\n",
        "\n",
        "labels = kmeans.labels_\n",
        "Lanche['Cluster'] = labels\n",
        "Lanche"
      ],
      "metadata": {
        "id": "URU-d_wsdHzm"
      },
      "execution_count": null,
      "outputs": []
    },
    {
      "cell_type": "code",
      "source": [
        "Lanche['Cluster'] = labels\n",
        "\n",
        "plt.figure(figsize=(10, 8))\n",
        "\n",
        "for i in range(0, 4):\n",
        "    subset = Lanche[Lanche['Cluster'] == i]\n",
        "    plt.scatter(subset['Carboidratos'], subset['Proteina'], label=f'Cluster {i}')\n",
        "\n",
        "plt.xlabel('Poteina')\n",
        "plt.ylabel('Carboidratos')\n",
        "plt.title('Lanches e seus Clusters')\n",
        "plt.legend()\n",
        "plt.show()"
      ],
      "metadata": {
        "id": "AGr1eVd4dt_N"
      },
      "execution_count": null,
      "outputs": []
    },
    {
      "cell_type": "code",
      "source": [
        "Lanche.groupby(\"Cluster\").describe()"
      ],
      "metadata": {
        "id": "U-nR7nyHeSKy"
      },
      "execution_count": null,
      "outputs": []
    },
    {
      "cell_type": "code",
      "source": [
        "escolhidos_l = Lanche[Lanche['Cluster'] == 0]"
      ],
      "metadata": {
        "id": "rwVagjadhlEJ"
      },
      "execution_count": null,
      "outputs": []
    },
    {
      "cell_type": "code",
      "source": [
        "escolhidos_l"
      ],
      "metadata": {
        "id": "tFHnkzZyhyXb"
      },
      "execution_count": null,
      "outputs": []
    },
    {
      "cell_type": "code",
      "source": [
        "escolhido_lanche = escolhidos_l.loc[escolhidos_l['Carboidratos'].idxmax()]"
      ],
      "metadata": {
        "id": "GQeDseh3hwl9"
      },
      "execution_count": null,
      "outputs": []
    },
    {
      "cell_type": "code",
      "source": [
        "print(escolhido_lanche)"
      ],
      "metadata": {
        "colab": {
          "base_uri": "https://localhost:8080/"
        },
        "id": "aZ_FOtCpjRsK",
        "outputId": "f19f374a-2912-42a4-ad37-5ebcb53137a1"
      },
      "execution_count": null,
      "outputs": [
        {
          "output_type": "stream",
          "name": "stdout",
          "text": [
            "Carboidratos          68\n",
            "Gordura total       33.0\n",
            "Proteina              27\n",
            "Calorias             670\n",
            "porcao           314.69 \n",
            "Cluster                0\n",
            "Name: Premium McWrap Southwest Chicken (Crispy Chicken), dtype: object\n"
          ]
        }
      ]
    },
    {
      "cell_type": "code",
      "source": [
        "Jantar = mc_novo[mc_novo['frango e peixe'] == True][[ 'Proteina', 'Calorias', 'fibra dietetica', 'porcao']]"
      ],
      "metadata": {
        "id": "mVXTcDpF_1hR"
      },
      "execution_count": null,
      "outputs": []
    },
    {
      "cell_type": "code",
      "source": [
        "Jantar"
      ],
      "metadata": {
        "id": "EoGXsIZr_91S"
      },
      "execution_count": null,
      "outputs": []
    },
    {
      "cell_type": "code",
      "source": [
        "def converter_para_gramas(i):\n",
        "    if 'oz' in i:\n",
        "        ounces = float(i.split('oz')[0].strip())\n",
        "\n",
        "        grams = ounces * 28.35\n",
        "        return f'{grams:.2f} '\n",
        "    else:\n",
        "        return i\n",
        "\n",
        "Jantar['porcao'] = Jantar['porcao'].apply(converter_para_gramas)\n",
        "\n",
        "\n",
        "Jantar"
      ],
      "metadata": {
        "id": "k4LOvRV2CXyY"
      },
      "execution_count": null,
      "outputs": []
    },
    {
      "cell_type": "code",
      "source": [
        "z = Jantar\n",
        "\n",
        "variabilidade_cluster = []\n",
        "\n",
        "valores_k = range(1, 11)\n",
        "\n",
        "for k in valores_k:\n",
        "    kmeans = KMeans(n_clusters=k, random_state=0)\n",
        "    kmeans.fit(z)\n",
        "    variabilidade_cluster.append(kmeans.inertia_)"
      ],
      "metadata": {
        "id": "JP7Kje12bVml"
      },
      "execution_count": null,
      "outputs": []
    },
    {
      "cell_type": "code",
      "source": [
        "plt.figure(figsize=(10, 6))\n",
        "\n",
        "plt.plot(valores_k, variabilidade_cluster, marker='o')\n",
        "\n",
        "plt.xlabel('Número de clusters (k)')\n",
        "plt.ylabel('Inércia / variabilidade')\n",
        "plt.title('Método do cotovelo para determinar o número ideal de clusters')\n",
        "plt.xticks(valores_k)\n",
        "plt.grid(True)\n",
        "plt.show()"
      ],
      "metadata": {
        "id": "3falrc5zcD_1"
      },
      "execution_count": null,
      "outputs": []
    },
    {
      "cell_type": "code",
      "source": [
        "kmeans = KMeans(n_clusters=3, random_state=0)\n",
        "kmeans.fit(Jantar)\n",
        "\n",
        "labels = kmeans.labels_\n",
        "Jantar['Cluster'] = labels\n",
        "Jantar"
      ],
      "metadata": {
        "id": "ymAUXTgmenU0"
      },
      "execution_count": null,
      "outputs": []
    },
    {
      "cell_type": "code",
      "source": [
        "Jantar['Cluster'] = labels\n",
        "\n",
        "plt.figure(figsize=(10, 8))\n",
        "\n",
        "for i in range(0, 3):\n",
        "    subset = Jantar[Jantar['Cluster'] == i]\n",
        "    plt.scatter(subset['Proteina'], subset['Calorias'], label=f'Cluster {i}')\n",
        "\n",
        "plt.xlabel('Calorias')\n",
        "plt.ylabel('Proteina')\n",
        "plt.title('Lanches e seus Clusters')\n",
        "plt.legend()\n",
        "plt.show()"
      ],
      "metadata": {
        "id": "XBsQhx59e2Sn"
      },
      "execution_count": null,
      "outputs": []
    },
    {
      "cell_type": "code",
      "source": [
        "Jantar.groupby(\"Cluster\").describe()"
      ],
      "metadata": {
        "id": "J0hJM4b1fj82"
      },
      "execution_count": null,
      "outputs": []
    },
    {
      "cell_type": "code",
      "source": [
        "escolhidos_j = Jantar[Jantar['Cluster'] == 0]"
      ],
      "metadata": {
        "id": "Bkq54by2j2xP"
      },
      "execution_count": null,
      "outputs": []
    },
    {
      "cell_type": "code",
      "source": [
        "escolhidos_j"
      ],
      "metadata": {
        "id": "cPScWvu_j6D_"
      },
      "execution_count": null,
      "outputs": []
    },
    {
      "cell_type": "code",
      "source": [
        "escolhido_jantar = escolhidos_j.loc[escolhidos_j['Proteina'].idxmax()]"
      ],
      "metadata": {
        "id": "KaMh89eNj8AX"
      },
      "execution_count": null,
      "outputs": []
    },
    {
      "cell_type": "code",
      "source": [
        "print(escolhido_jantar)"
      ],
      "metadata": {
        "colab": {
          "base_uri": "https://localhost:8080/"
        },
        "id": "9SWF_pofkAcx",
        "outputId": "ec7fb84f-d54f-499e-d142-429525d2ceea"
      },
      "execution_count": null,
      "outputs": [
        {
          "output_type": "stream",
          "name": "stdout",
          "text": [
            "Proteina                40\n",
            "Calorias               510\n",
            "fibra dietetica          3\n",
            "porcao             235.31 \n",
            "Cluster                  0\n",
            "Name: Premium Grilled Chicken Club Sandwich, dtype: object\n"
          ]
        }
      ]
    }
  ]
}